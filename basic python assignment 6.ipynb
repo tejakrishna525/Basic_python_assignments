{
 "cells": [
  {
   "cell_type": "code",
   "execution_count": 9,
   "id": "26fd0678",
   "metadata": {},
   "outputs": [
    {
     "name": "stdout",
     "output_type": "stream",
     "text": [
      "1 : 1\n",
      "2 : 1\n",
      "3 : 2\n",
      "4 : 3\n",
      "5 : 5\n",
      "6 : 8\n",
      "7 : 13\n",
      "8 : 21\n",
      "9 : 34\n",
      "10 : 55\n"
     ]
    }
   ],
   "source": [
    "#Write a Python Program to Display Fibonacci Sequence Using Recursion?\n",
    "def fibb(n):\n",
    "    if n==1:\n",
    "        return 1\n",
    "    elif n==2:\n",
    "        return 1\n",
    "    elif n>2:\n",
    "        return fibb(n-1)+fibb(n-2)\n",
    "    \n",
    "for i in range(1,11):\n",
    "    print(i,':',fibb(i))"
   ]
  },
  {
   "cell_type": "code",
   "execution_count": 10,
   "id": "4a235568",
   "metadata": {},
   "outputs": [
    {
     "data": {
      "text/plain": [
       "120"
      ]
     },
     "execution_count": 10,
     "metadata": {},
     "output_type": "execute_result"
    }
   ],
   "source": [
    "#2 Write a Python Program to Find Factorial of Number Using Recursion?\n",
    "def fact(n):\n",
    "    if n ==1:\n",
    "        return 1\n",
    "    else:\n",
    "        return n*fact(n-1)\n",
    "    \n",
    "fact(5)"
   ]
  },
  {
   "cell_type": "code",
   "execution_count": 12,
   "id": "c90dbb14",
   "metadata": {},
   "outputs": [
    {
     "data": {
      "text/plain": [
       "3000"
      ]
     },
     "execution_count": 12,
     "metadata": {},
     "output_type": "execute_result"
    }
   ],
   "source": [
    "import sys\n",
    "sys.getrecursionlimit()\n",
    "#we cant exceed this limit \n"
   ]
  },
  {
   "cell_type": "code",
   "execution_count": 15,
   "id": "5a82dab5",
   "metadata": {},
   "outputs": [
    {
     "name": "stdout",
     "output_type": "stream",
     "text": [
      "enter your height in cms155\n",
      "enter your weight in kgs55\n",
      "you are healthy 22.892819979188342\n"
     ]
    }
   ],
   "source": [
    "#3.Write a Python Program to calculate your Body Mass Index?\n",
    "height = int(input('enter your height in cms'))\n",
    "weight = int(input('enter your weight in kgs'))\n",
    "bmi = weight/(height/100)**2\n",
    "if bmi>25:\n",
    "    print('overweight',bmi)\n",
    "elif bmi <18.5:\n",
    "    print('under weight:',bmi)\n",
    "else:\n",
    "    print('you are healthy',bmi)"
   ]
  },
  {
   "cell_type": "code",
   "execution_count": 21,
   "id": "40110247",
   "metadata": {},
   "outputs": [],
   "source": [
    "#4.Write a Python Program to calculate the natural logarithm of any number?\n",
    "def cal_log(n):\n",
    "    import math\n",
    "    print(\"the logarithmic number of\",n,'is',end='')\n",
    "    print(math.log(n))\n",
    "    "
   ]
  },
  {
   "cell_type": "code",
   "execution_count": 22,
   "id": "dae48ec8",
   "metadata": {},
   "outputs": [
    {
     "name": "stdout",
     "output_type": "stream",
     "text": [
      "the logarithmic number of 14 is2.6390573296152584\n"
     ]
    }
   ],
   "source": [
    "cal_log(14)"
   ]
  },
  {
   "cell_type": "code",
   "execution_count": 36,
   "id": "4da1abd3",
   "metadata": {},
   "outputs": [
    {
     "name": "stdout",
     "output_type": "stream",
     "text": [
      "enter the cube number5\n",
      "225\n"
     ]
    }
   ],
   "source": [
    "#5.Write a Python Program for cube sum of first n natural numbers?\n",
    "n = int(input('enter the cube number'))\n",
    "sum = 0\n",
    "for i in range(1,n+1):\n",
    "    sum +=i*i*i\n",
    "print(sum)\n",
    "    "
   ]
  },
  {
   "cell_type": "code",
   "execution_count": null,
   "id": "9cec05d3",
   "metadata": {},
   "outputs": [],
   "source": []
  }
 ],
 "metadata": {
  "kernelspec": {
   "display_name": "Python 3",
   "language": "python",
   "name": "python3"
  },
  "language_info": {
   "codemirror_mode": {
    "name": "ipython",
    "version": 3
   },
   "file_extension": ".py",
   "mimetype": "text/x-python",
   "name": "python",
   "nbconvert_exporter": "python",
   "pygments_lexer": "ipython3",
   "version": "3.8.8"
  }
 },
 "nbformat": 4,
 "nbformat_minor": 5
}
