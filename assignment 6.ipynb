{
 "cells": [
  {
   "cell_type": "raw",
   "id": "3d8eeb36",
   "metadata": {},
   "source": [
    "1. escape character are used to insert illegal characters in a string /   /n leaves a line, /t leaves a tab"
   ]
  },
  {
   "cell_type": "raw",
   "id": "22d7a175",
   "metadata": {},
   "source": [
    "2. t is atab, n is anew line"
   ]
  },
  {
   "cell_type": "raw",
   "id": "9562c986",
   "metadata": {},
   "source": [
    "3. use double backslash //"
   ]
  },
  {
   "cell_type": "code",
   "execution_count": 6,
   "id": "0db7be33",
   "metadata": {},
   "outputs": [
    {
     "name": "stdout",
     "output_type": "stream",
     "text": [
      "howl's moving castle\n"
     ]
    }
   ],
   "source": [
    "print(\"howl's moving castle\")"
   ]
  },
  {
   "cell_type": "raw",
   "id": "71601c5a",
   "metadata": {},
   "source": [
    "4. the single quotes used in howls is fine because we used double quotes in starting and ending of the string"
   ]
  },
  {
   "cell_type": "code",
   "execution_count": 8,
   "id": "5e52106d",
   "metadata": {},
   "outputs": [
    {
     "name": "stdout",
     "output_type": "stream",
     "text": [
      "ineuron\n",
      "ineuron\n"
     ]
    }
   ],
   "source": [
    "print('ineuron\\nineuron')\n"
   ]
  },
  {
   "cell_type": "code",
   "execution_count": 9,
   "id": "de5d5f5e",
   "metadata": {},
   "outputs": [
    {
     "name": "stdout",
     "output_type": "stream",
     "text": [
      "ineuron\n",
      "ineuron\n"
     ]
    }
   ],
   "source": [
    "print('ineuron')\n",
    "print('ineuron')"
   ]
  },
  {
   "cell_type": "raw",
   "id": "24af5722",
   "metadata": {},
   "source": [
    "5. use multiline strings because at the end the line \\n is added"
   ]
  },
  {
   "cell_type": "code",
   "execution_count": 14,
   "id": "eda147c4",
   "metadata": {},
   "outputs": [
    {
     "name": "stdout",
     "output_type": "stream",
     "text": [
      "e\n",
      "Hello\n",
      "Hello\n",
      "lo, world!\n"
     ]
    }
   ],
   "source": [
    "#6\n",
    "s = 'Hello, world!'\n",
    "print(s[1])\n",
    "print(s[0:5])\n",
    "print(s[:5])\n",
    "print(s[3:])"
   ]
  },
  {
   "cell_type": "code",
   "execution_count": 18,
   "id": "bae84ea7",
   "metadata": {},
   "outputs": [
    {
     "name": "stdout",
     "output_type": "stream",
     "text": [
      "HELLO\n",
      "True\n",
      "hello\n"
     ]
    }
   ],
   "source": [
    "#7\n",
    "s = 'Hello'\n",
    "print(s.upper())\n",
    "print(s.upper().isupper())\n",
    "print(s.upper().lower())"
   ]
  },
  {
   "cell_type": "code",
   "execution_count": 26,
   "id": "f7f493c0",
   "metadata": {},
   "outputs": [
    {
     "name": "stdout",
     "output_type": "stream",
     "text": [
      "['Remember,', 'remember,', 'the', 'fifth', 'of', 'November.']\n"
     ]
    },
    {
     "data": {
      "text/plain": [
       "['There', 'can', 'be', 'only', 'one.']"
      ]
     },
     "execution_count": 26,
     "metadata": {},
     "output_type": "execute_result"
    }
   ],
   "source": [
    "#8\n",
    "s = 'Remember, remember, the fifth of November.'\n",
    "print(s.split())\n",
    "s1 = 'There can be only one.'\n",
    "s2 = '-'.join(s1)\n",
    "s1.split()"
   ]
  },
  {
   "cell_type": "raw",
   "id": "93ae896d",
   "metadata": {},
   "source": [
    "#9\n",
    "ljust(),rjust(),center() are the string methods"
   ]
  },
  {
   "cell_type": "code",
   "execution_count": 29,
   "id": "717c1f15",
   "metadata": {},
   "outputs": [
    {
     "name": "stdout",
     "output_type": "stream",
     "text": [
      "      krishna     \n",
      "krishna     \n",
      "      krishna\n"
     ]
    }
   ],
   "source": [
    "#10\n",
    "name = '      krishna     '\n",
    "print(name)\n",
    "print(name.lstrip())\n",
    "print(name.rstrip())"
   ]
  },
  {
   "cell_type": "code",
   "execution_count": null,
   "id": "ef768185",
   "metadata": {},
   "outputs": [],
   "source": []
  }
 ],
 "metadata": {
  "kernelspec": {
   "display_name": "Python 3",
   "language": "python",
   "name": "python3"
  },
  "language_info": {
   "codemirror_mode": {
    "name": "ipython",
    "version": 3
   },
   "file_extension": ".py",
   "mimetype": "text/x-python",
   "name": "python",
   "nbconvert_exporter": "python",
   "pygments_lexer": "ipython3",
   "version": "3.8.8"
  }
 },
 "nbformat": 4,
 "nbformat_minor": 5
}
