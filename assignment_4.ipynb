{
 "cells": [
  {
   "cell_type": "raw",
   "id": "af78dcb5",
   "metadata": {},
   "source": [
    "1. [] it is an empty list"
   ]
  },
  {
   "cell_type": "code",
   "execution_count": 21,
   "id": "f4f6ee8c",
   "metadata": {},
   "outputs": [],
   "source": [
    "#2\n",
    "spam = [2,4,6,8,10]\n",
    "spam[2] = \"hello\"\n",
    "spam\n",
    "spam = ['a','b','c','d']"
   ]
  },
  {
   "cell_type": "code",
   "execution_count": 22,
   "id": "45210eb1",
   "metadata": {},
   "outputs": [
    {
     "data": {
      "text/plain": [
       "'d'"
      ]
     },
     "execution_count": 22,
     "metadata": {},
     "output_type": "execute_result"
    }
   ],
   "source": [
    "#3\n",
    "spam[int(int('3'*2)//11)]"
   ]
  },
  {
   "cell_type": "code",
   "execution_count": 23,
   "id": "4b66151e",
   "metadata": {},
   "outputs": [
    {
     "data": {
      "text/plain": [
       "'d'"
      ]
     },
     "execution_count": 23,
     "metadata": {},
     "output_type": "execute_result"
    }
   ],
   "source": [
    "#4\n",
    "spam[-1] # negative index count from the end"
   ]
  },
  {
   "cell_type": "code",
   "execution_count": 24,
   "id": "c805f5a5",
   "metadata": {},
   "outputs": [
    {
     "data": {
      "text/plain": [
       "['a', 'b']"
      ]
     },
     "execution_count": 24,
     "metadata": {},
     "output_type": "execute_result"
    }
   ],
   "source": [
    "#5\n",
    "spam[:2]"
   ]
  },
  {
   "cell_type": "code",
   "execution_count": 28,
   "id": "777a8b84",
   "metadata": {},
   "outputs": [
    {
     "data": {
      "text/plain": [
       "1"
      ]
     },
     "execution_count": 28,
     "metadata": {},
     "output_type": "execute_result"
    }
   ],
   "source": [
    "#6\n",
    "bacon = [3.14,'cat',11,'cat',True]\n",
    "bacon.index('cat')"
   ]
  },
  {
   "cell_type": "code",
   "execution_count": 29,
   "id": "5a3c67cb",
   "metadata": {},
   "outputs": [
    {
     "data": {
      "text/plain": [
       "[3.14, 'cat', 11, 'cat', True, 99]"
      ]
     },
     "execution_count": 29,
     "metadata": {},
     "output_type": "execute_result"
    }
   ],
   "source": [
    "#7.\n",
    "bacon.append(99)\n",
    "bacon"
   ]
  },
  {
   "cell_type": "code",
   "execution_count": 31,
   "id": "716b7d04",
   "metadata": {},
   "outputs": [
    {
     "data": {
      "text/plain": [
       "[3.14, 11, True, 99]"
      ]
     },
     "execution_count": 31,
     "metadata": {},
     "output_type": "execute_result"
    }
   ],
   "source": [
    "#8\n",
    "bacon.remove('cat')\n",
    "bacon"
   ]
  },
  {
   "cell_type": "raw",
   "id": "212ea8f5",
   "metadata": {},
   "source": [
    "9. the list concatination operator is +\n",
    "     the list replication operator is *"
   ]
  },
  {
   "cell_type": "raw",
   "id": "f173af96",
   "metadata": {},
   "source": [
    "10. append will add the value to the end of the list\n",
    "    while insert will add the value to the list anywhere"
   ]
  },
  {
   "cell_type": "raw",
   "id": "8cdd620c",
   "metadata": {},
   "source": [
    "11. remove and pop methods"
   ]
  },
  {
   "cell_type": "raw",
   "id": "090331c1",
   "metadata": {},
   "source": [
    "12. the similarities between lists and strings is both are sequences list is mutable but string is immutable"
   ]
  },
  {
   "cell_type": "raw",
   "id": "a3213c69",
   "metadata": {},
   "source": [
    "13. lists are mutable, tuples are immutable\n",
    "    lists consume more memory , tuples consume less memory\n",
    "    lists iteration is time consuming, tuples iteration is faster"
   ]
  },
  {
   "cell_type": "code",
   "execution_count": 41,
   "id": "184b5f8b",
   "metadata": {},
   "outputs": [
    {
     "data": {
      "text/plain": [
       "tuple"
      ]
     },
     "execution_count": 41,
     "metadata": {},
     "output_type": "execute_result"
    }
   ],
   "source": [
    "#14\n",
    "d = (42,)\n",
    "type(d)"
   ]
  },
  {
   "cell_type": "code",
   "execution_count": 42,
   "id": "5f7c6ae2",
   "metadata": {},
   "outputs": [
    {
     "data": {
      "text/plain": [
       "[]"
      ]
     },
     "execution_count": 42,
     "metadata": {},
     "output_type": "execute_result"
    }
   ],
   "source": [
    "#15\n",
    "tuple()\n",
    "list()"
   ]
  },
  {
   "cell_type": "code",
   "execution_count": null,
   "id": "a10b7f6a",
   "metadata": {},
   "outputs": [],
   "source": [
    "#16\n",
    "integers,floats, strings, tuples,boolean"
   ]
  },
  {
   "cell_type": "raw",
   "id": "a66ec7bc",
   "metadata": {},
   "source": [
    "#17\n",
    "a copy constructs a new compound object and then inserts references into it to the objects found in original\n",
    "a deepcopy constructs a new compound object and then recursievly insert copies into it of the objects found in original"
   ]
  }
 ],
 "metadata": {
  "kernelspec": {
   "display_name": "Python 3",
   "language": "python",
   "name": "python3"
  },
  "language_info": {
   "codemirror_mode": {
    "name": "ipython",
    "version": 3
   },
   "file_extension": ".py",
   "mimetype": "text/x-python",
   "name": "python",
   "nbconvert_exporter": "python",
   "pygments_lexer": "ipython3",
   "version": "3.8.8"
  }
 },
 "nbformat": 4,
 "nbformat_minor": 5
}
