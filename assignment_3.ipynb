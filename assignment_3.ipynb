{
 "cells": [
  {
   "cell_type": "raw",
   "id": "c419f509",
   "metadata": {},
   "source": [
    "1. functions are useful because it will increase code reusability , using functions we can reduce duplication of code and we can reduce complex problems into simpler ones"
   ]
  },
  {
   "cell_type": "raw",
   "id": "b2aca4a5",
   "metadata": {},
   "source": [
    "2.The code runs a function when it is called"
   ]
  },
  {
   "cell_type": "raw",
   "id": "a74bcbfb",
   "metadata": {},
   "source": [
    "3. using def keyword is a statement to define a function with function_name followed by parenthesis and colon\n",
    "    def Function_name():\n",
    "        pass"
   ]
  },
  {
   "cell_type": "raw",
   "id": "ac47ab38",
   "metadata": {},
   "source": [
    "4. a function is a peice of code, function calol is used to call the function to execute"
   ]
  },
  {
   "cell_type": "raw",
   "id": "01f74ca8",
   "metadata": {},
   "source": [
    "5. there is only one global scope is there in python per execution\n",
    "   as many as the names assigned inside the function \n",
    " "
   ]
  },
  {
   "cell_type": "raw",
   "id": "e8329a4e",
   "metadata": {},
   "source": [
    "6. local variables are destroyed when function terminates"
   ]
  },
  {
   "cell_type": "raw",
   "id": "802161f7",
   "metadata": {},
   "source": [
    "7. the return statement is used to exit from the function and handback a value to its caller. yes it is possible to have a return value in an expression "
   ]
  },
  {
   "cell_type": "raw",
   "id": "d5cc8d24",
   "metadata": {},
   "source": [
    "8. the return value of the function is undefined "
   ]
  },
  {
   "cell_type": "raw",
   "id": "230c0b47",
   "metadata": {},
   "source": [
    "9. by using global keyword we can declare variables as global"
   ]
  },
  {
   "cell_type": "raw",
   "id": "ecff9913",
   "metadata": {},
   "source": [
    "10. the datatype of null value is none type or null, no value"
   ]
  },
  {
   "cell_type": "code",
   "execution_count": 12,
   "id": "8d058488",
   "metadata": {},
   "outputs": [
    {
     "ename": "ModuleNotFoundError",
     "evalue": "No module named 'areallyourpetsnamederic'",
     "output_type": "error",
     "traceback": [
      "\u001b[1;31m---------------------------------------------------------------------------\u001b[0m",
      "\u001b[1;31mModuleNotFoundError\u001b[0m                       Traceback (most recent call last)",
      "\u001b[1;32m<ipython-input-12-303ccb11efc3>\u001b[0m in \u001b[0;36m<module>\u001b[1;34m\u001b[0m\n\u001b[0;32m      1\u001b[0m \u001b[1;31m#11\u001b[0m\u001b[1;33m\u001b[0m\u001b[1;33m\u001b[0m\u001b[1;33m\u001b[0m\u001b[0m\n\u001b[1;32m----> 2\u001b[1;33m \u001b[1;32mimport\u001b[0m \u001b[0mareallyourpetsnamederic\u001b[0m\u001b[1;33m\u001b[0m\u001b[1;33m\u001b[0m\u001b[0m\n\u001b[0m",
      "\u001b[1;31mModuleNotFoundError\u001b[0m: No module named 'areallyourpetsnamederic'"
     ]
    }
   ],
   "source": [
    "#11\n",
    "import areallyourpetsnamederic"
   ]
  },
  {
   "cell_type": "raw",
   "id": "7ee50880",
   "metadata": {},
   "source": [
    "12. import spam\n",
    "     spam.bacon()"
   ]
  },
  {
   "cell_type": "raw",
   "id": "398964a2",
   "metadata": {},
   "source": [
    "13. by using error handling we can save programme from crashing"
   ]
  },
  {
   "cell_type": "raw",
   "id": "ea53e290",
   "metadata": {},
   "source": [
    "14. the try block will test the expected error to occur\n",
    "    exception here we can handle the error(execute ehrn there is an exception)"
   ]
  },
  {
   "cell_type": "code",
   "execution_count": null,
   "id": "f7680a02",
   "metadata": {},
   "outputs": [],
   "source": []
  }
 ],
 "metadata": {
  "kernelspec": {
   "display_name": "Python 3",
   "language": "python",
   "name": "python3"
  },
  "language_info": {
   "codemirror_mode": {
    "name": "ipython",
    "version": 3
   },
   "file_extension": ".py",
   "mimetype": "text/x-python",
   "name": "python",
   "nbconvert_exporter": "python",
   "pygments_lexer": "ipython3",
   "version": "3.8.8"
  }
 },
 "nbformat": 4,
 "nbformat_minor": 5
}
