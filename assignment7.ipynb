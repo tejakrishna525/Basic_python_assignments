{
 "cells": [
  {
   "cell_type": "raw",
   "id": "0ce576ae",
   "metadata": {},
   "source": [
    "1. re.compile is used to generate the regex objects"
   ]
  },
  {
   "cell_type": "raw",
   "id": "982f3d70",
   "metadata": {},
   "source": [
    "2. raw strings is useful to treat backslashes as literals"
   ]
  },
  {
   "cell_type": "raw",
   "id": "18794330",
   "metadata": {},
   "source": [
    " 3. the search method returns match objects"
   ]
  },
  {
   "cell_type": "raw",
   "id": "c49004ef",
   "metadata": {},
   "source": [
    " 4. by using the group() string returns match string"
   ]
  },
  {
   "cell_type": "raw",
   "id": "d2cbae4d",
   "metadata": {},
   "source": [
    " 5 group 0 will covers the entire match\n",
    "  group 1 covers the first set of parenthesis\n",
    "     group 2 covers the second set"
   ]
  },
  {
   "cell_type": "raw",
   "id": "6236dc07",
   "metadata": {},
   "source": [
    " 6. with the help of \\( and \\)"
   ]
  },
  {
   "cell_type": "raw",
   "id": "b48969a1",
   "metadata": {},
   "source": [
    "7. if the regex has no groups a list of strings is returned, if the regex has groups a list of tuples of string is returned. "
   ]
  },
  {
   "cell_type": "raw",
   "id": "b91ae7c6",
   "metadata": {},
   "source": [
    "8. either or between two groups"
   ]
  },
  {
   "cell_type": "raw",
   "id": "182192c2",
   "metadata": {},
   "source": [
    "9. character not given"
   ]
  },
  {
   "cell_type": "raw",
   "id": "00b6ee05",
   "metadata": {},
   "source": [
    "10. + quantifier matches one or more  \n",
    "   * quantifies matches zero or more"
   ]
  },
  {
   "cell_type": "raw",
   "id": "5e84955a",
   "metadata": {},
   "source": [
    "11. quantifier {4} matches exactly 4 instances of the preceeding group\n",
    "  {4,5} matches between 4 to 5 times"
   ]
  },
  {
   "cell_type": "raw",
   "id": "500d26c6",
   "metadata": {},
   "source": [
    "12.\\d matches single digit\n",
    "\\w matches single word\n",
    "\\s space character"
   ]
  },
  {
   "cell_type": "raw",
   "id": "d800db2d",
   "metadata": {},
   "source": [
    "13. \\D matches a single character that is not a digit\n",
    "\\W matches a character that is not a word\n",
    "\\S matches a character that is a space character"
   ]
  },
  {
   "cell_type": "raw",
   "id": "2b3d97f7",
   "metadata": {},
   "source": [
    "14. * is quantifier in regex it is a greedy quantifier\n",
    " with combination of *?/??/+? becomes a non greedy quantifiers"
   ]
  },
  {
   "cell_type": "raw",
   "id": "e6c14d77",
   "metadata": {},
   "source": [
    "15. [0-9a-z]"
   ]
  },
  {
   "cell_type": "raw",
   "id": "32bb7719",
   "metadata": {},
   "source": [
    "16.using re.ignorecase flags         (re.match(pattern,string,flags))"
   ]
  },
  {
   "cell_type": "raw",
   "id": "9bdf2167",
   "metadata": {},
   "source": [
    "17    . is metacharacter in regex it matches a single character except a newq line character\n",
    "if re.Dotall is passed to re.compile then Dot will also matches the new line characters"
   ]
  },
  {
   "cell_type": "code",
   "execution_count": 11,
   "id": "aa98d39d",
   "metadata": {},
   "outputs": [
    {
     "name": "stdout",
     "output_type": "stream",
     "text": [
      "X Drumers X pipers five rings X hens\n"
     ]
    }
   ],
   "source": [
    "#18\n",
    "import re\n",
    "numReg = re.compile(r'\\d+')\n",
    "print(numReg.sub('X','11 Drumers 10 pipers five rings 4 hens'))"
   ]
  },
  {
   "cell_type": "raw",
   "id": "dfd6a6fa",
   "metadata": {},
   "source": [
    "19 verbose flags allows us to add whitespace and comments to the string passed to re.compile"
   ]
  },
  {
   "cell_type": "code",
   "execution_count": 16,
   "id": "c6586774",
   "metadata": {},
   "outputs": [
    {
     "name": "stdout",
     "output_type": "stream",
     "text": [
      "<re.Match object; span=(0, 2), match='42'>\n",
      "<re.Match object; span=(0, 5), match='1,234'>\n",
      "<re.Match object; span=(0, 9), match='6,368,745'>\n",
      "None\n",
      "None\n"
     ]
    }
   ],
   "source": [
    "#20.\n",
    "reg = re.compile(r'^\\d{1,3}(,\\d{3})*$')\n",
    "print(reg.match('42'))\n",
    "print(reg.match('1,234'))\n",
    "print(reg.match('6,368,745'))\n",
    "print(reg.match('1234'))\n",
    "print(reg.match('12,34,567'))"
   ]
  },
  {
   "cell_type": "raw",
   "id": "cb98b86e",
   "metadata": {},
   "source": [
    "21\n",
    "re.compile(r'[A-Z][a-z]*\\sNakamoto')"
   ]
  },
  {
   "cell_type": "raw",
   "id": "a12a81a7",
   "metadata": {},
   "source": [
    "22.\n",
    "re.compile(r'(Alice|Bob|Carol)\\s(eats|pets|throws)\\s(apples|cats|baseballs)\\.', re.IGNORECASE)"
   ]
  },
  {
   "cell_type": "code",
   "execution_count": null,
   "id": "24d6a4fd",
   "metadata": {},
   "outputs": [],
   "source": []
  }
 ],
 "metadata": {
  "kernelspec": {
   "display_name": "Python 3",
   "language": "python",
   "name": "python3"
  },
  "language_info": {
   "codemirror_mode": {
    "name": "ipython",
    "version": 3
   },
   "file_extension": ".py",
   "mimetype": "text/x-python",
   "name": "python",
   "nbconvert_exporter": "python",
   "pygments_lexer": "ipython3",
   "version": "3.8.8"
  }
 },
 "nbformat": 4,
 "nbformat_minor": 5
}
